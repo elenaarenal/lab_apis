{
 "cells": [
  {
   "cell_type": "markdown",
   "id": "defensive-clock",
   "metadata": {},
   "source": [
    "# Challenge 3: Hidden Cold Joke\n",
    "\n",
    "Using Python, call Github API to find out the cold joke contained in the 24 secret files in the following repo:\n",
    "\n",
    "https://github.com/ironhack-datalabs/scavenger\n",
    "\n",
    "The filenames of the secret files contain .scavengerhunt and they are scattered in different directories of this repo. The secret files are named from .0001.scavengerhunt to .0024.scavengerhunt. They are scattered randomly throughout this repo. You need to search for these files by calling the Github API, not searching the local files on your computer.\n",
    "\n",
    "\n",
    "After you find out the secrete files:\n",
    "\n",
    "Sort the filenames ascendingly.\n",
    "\n",
    "Read the content of each secret files into an array of strings.\n",
    "\n",
    "Concatenate the strings in the array separating each two with a whitespace.\n",
    "\n",
    "Print out the joke."
   ]
  },
  {
   "cell_type": "markdown",
   "id": "universal-length",
   "metadata": {},
   "source": [
    "⚠️ **Remember to limit your output before submission**."
   ]
  },
  {
   "cell_type": "code",
   "execution_count": 7,
   "id": "toxic-trading",
   "metadata": {},
   "outputs": [
    {
     "name": "stdout",
     "output_type": "stream",
     "text": [
      "Requirement already satisfied: requests in c:\\users\\arena\\anaconda3\\lib\\site-packages (2.31.0)\n",
      "Requirement already satisfied: charset-normalizer<4,>=2 in c:\\users\\arena\\anaconda3\\lib\\site-packages (from requests) (2.0.4)\n",
      "Requirement already satisfied: idna<4,>=2.5 in c:\\users\\arena\\anaconda3\\lib\\site-packages (from requests) (3.4)\n",
      "Requirement already satisfied: urllib3<3,>=1.21.1 in c:\\users\\arena\\anaconda3\\lib\\site-packages (from requests) (1.26.16)\n",
      "Requirement already satisfied: certifi>=2017.4.17 in c:\\users\\arena\\anaconda3\\lib\\site-packages (from requests) (2023.11.17)\n",
      "Note: you may need to restart the kernel to use updated packages.\n"
     ]
    }
   ],
   "source": [
    "import json\n",
    "import requests as req\n",
    "%pip install requests\n",
    "import os\n",
    "from dotenv import load_dotenv\n",
    "load_dotenv()\n",
    "github = os.getenv(\"token\")"
   ]
  },
  {
   "cell_type": "code",
   "execution_count": 8,
   "id": "static-stopping",
   "metadata": {},
   "outputs": [],
   "source": [
    "# Example: print(variable[:10]) \n",
    "url='https://github.com/ironhack-datalabs/scavenger'\n",
    "\n"
   ]
  },
  {
   "cell_type": "code",
   "execution_count": 9,
   "id": "2f4022b1",
   "metadata": {},
   "outputs": [
    {
     "data": {
      "text/plain": [
       "<Response [200]>"
      ]
     },
     "execution_count": 9,
     "metadata": {},
     "output_type": "execute_result"
    }
   ],
   "source": [
    "res = req.get(url)\n",
    "res"
   ]
  },
  {
   "cell_type": "code",
   "execution_count": 11,
   "id": "768c6cbb",
   "metadata": {},
   "outputs": [],
   "source": [
    "url='https://api.github.com/repos/ironhack-datalabs/scavenger'"
   ]
  },
  {
   "cell_type": "code",
   "execution_count": 12,
   "id": "a215721b",
   "metadata": {},
   "outputs": [
    {
     "data": {
      "text/plain": [
       "<Response [200]>"
      ]
     },
     "execution_count": 12,
     "metadata": {},
     "output_type": "execute_result"
    }
   ],
   "source": [
    "req.get(url)"
   ]
  },
  {
   "cell_type": "code",
   "execution_count": 13,
   "id": "581b4171",
   "metadata": {},
   "outputs": [],
   "source": [
    "res=req.get(url)\n",
    "res.json()\n",
    "res=res.json()"
   ]
  },
  {
   "cell_type": "code",
   "execution_count": 29,
   "id": "9aa38b28",
   "metadata": {},
   "outputs": [
    {
     "data": {
      "text/plain": [
       "dict_keys(['id', 'node_id', 'name', 'full_name', 'private', 'owner', 'html_url', 'description', 'fork', 'url', 'forks_url', 'keys_url', 'collaborators_url', 'teams_url', 'hooks_url', 'issue_events_url', 'events_url', 'assignees_url', 'branches_url', 'tags_url', 'blobs_url', 'git_tags_url', 'git_refs_url', 'trees_url', 'statuses_url', 'languages_url', 'stargazers_url', 'contributors_url', 'subscribers_url', 'subscription_url', 'commits_url', 'git_commits_url', 'comments_url', 'issue_comment_url', 'contents_url', 'compare_url', 'merges_url', 'archive_url', 'downloads_url', 'issues_url', 'pulls_url', 'milestones_url', 'notifications_url', 'labels_url', 'releases_url', 'deployments_url', 'created_at', 'updated_at', 'pushed_at', 'git_url', 'ssh_url', 'clone_url', 'svn_url', 'homepage', 'size', 'stargazers_count', 'watchers_count', 'language', 'has_issues', 'has_projects', 'has_downloads', 'has_wiki', 'has_pages', 'has_discussions', 'forks_count', 'mirror_url', 'archived', 'disabled', 'open_issues_count', 'license', 'allow_forking', 'is_template', 'web_commit_signoff_required', 'topics', 'visibility', 'forks', 'open_issues', 'watchers', 'default_branch', 'temp_clone_token', 'custom_properties', 'organization', 'network_count', 'subscribers_count'])"
      ]
     },
     "execution_count": 29,
     "metadata": {},
     "output_type": "execute_result"
    }
   ],
   "source": [
    "res.keys()"
   ]
  },
  {
   "cell_type": "code",
   "execution_count": 14,
   "id": "cc6f3913",
   "metadata": {},
   "outputs": [
    {
     "data": {
      "text/plain": [
       "dict_values([162375181, 'MDEwOlJlcG9zaXRvcnkxNjIzNzUxODE=', 'scavenger', 'ironhack-datalabs/scavenger', False, {'login': 'ironhack-datalabs', 'id': 44225188, 'node_id': 'MDEyOk9yZ2FuaXphdGlvbjQ0MjI1MTg4', 'avatar_url': 'https://avatars.githubusercontent.com/u/44225188?v=4', 'gravatar_id': '', 'url': 'https://api.github.com/users/ironhack-datalabs', 'html_url': 'https://github.com/ironhack-datalabs', 'followers_url': 'https://api.github.com/users/ironhack-datalabs/followers', 'following_url': 'https://api.github.com/users/ironhack-datalabs/following{/other_user}', 'gists_url': 'https://api.github.com/users/ironhack-datalabs/gists{/gist_id}', 'starred_url': 'https://api.github.com/users/ironhack-datalabs/starred{/owner}{/repo}', 'subscriptions_url': 'https://api.github.com/users/ironhack-datalabs/subscriptions', 'organizations_url': 'https://api.github.com/users/ironhack-datalabs/orgs', 'repos_url': 'https://api.github.com/users/ironhack-datalabs/repos', 'events_url': 'https://api.github.com/users/ironhack-datalabs/events{/privacy}', 'received_events_url': 'https://api.github.com/users/ironhack-datalabs/received_events', 'type': 'Organization', 'site_admin': False}, 'https://github.com/ironhack-datalabs/scavenger', None, False, 'https://api.github.com/repos/ironhack-datalabs/scavenger', 'https://api.github.com/repos/ironhack-datalabs/scavenger/forks', 'https://api.github.com/repos/ironhack-datalabs/scavenger/keys{/key_id}', 'https://api.github.com/repos/ironhack-datalabs/scavenger/collaborators{/collaborator}', 'https://api.github.com/repos/ironhack-datalabs/scavenger/teams', 'https://api.github.com/repos/ironhack-datalabs/scavenger/hooks', 'https://api.github.com/repos/ironhack-datalabs/scavenger/issues/events{/number}', 'https://api.github.com/repos/ironhack-datalabs/scavenger/events', 'https://api.github.com/repos/ironhack-datalabs/scavenger/assignees{/user}', 'https://api.github.com/repos/ironhack-datalabs/scavenger/branches{/branch}', 'https://api.github.com/repos/ironhack-datalabs/scavenger/tags', 'https://api.github.com/repos/ironhack-datalabs/scavenger/git/blobs{/sha}', 'https://api.github.com/repos/ironhack-datalabs/scavenger/git/tags{/sha}', 'https://api.github.com/repos/ironhack-datalabs/scavenger/git/refs{/sha}', 'https://api.github.com/repos/ironhack-datalabs/scavenger/git/trees{/sha}', 'https://api.github.com/repos/ironhack-datalabs/scavenger/statuses/{sha}', 'https://api.github.com/repos/ironhack-datalabs/scavenger/languages', 'https://api.github.com/repos/ironhack-datalabs/scavenger/stargazers', 'https://api.github.com/repos/ironhack-datalabs/scavenger/contributors', 'https://api.github.com/repos/ironhack-datalabs/scavenger/subscribers', 'https://api.github.com/repos/ironhack-datalabs/scavenger/subscription', 'https://api.github.com/repos/ironhack-datalabs/scavenger/commits{/sha}', 'https://api.github.com/repos/ironhack-datalabs/scavenger/git/commits{/sha}', 'https://api.github.com/repos/ironhack-datalabs/scavenger/comments{/number}', 'https://api.github.com/repos/ironhack-datalabs/scavenger/issues/comments{/number}', 'https://api.github.com/repos/ironhack-datalabs/scavenger/contents/{+path}', 'https://api.github.com/repos/ironhack-datalabs/scavenger/compare/{base}...{head}', 'https://api.github.com/repos/ironhack-datalabs/scavenger/merges', 'https://api.github.com/repos/ironhack-datalabs/scavenger/{archive_format}{/ref}', 'https://api.github.com/repos/ironhack-datalabs/scavenger/downloads', 'https://api.github.com/repos/ironhack-datalabs/scavenger/issues{/number}', 'https://api.github.com/repos/ironhack-datalabs/scavenger/pulls{/number}', 'https://api.github.com/repos/ironhack-datalabs/scavenger/milestones{/number}', 'https://api.github.com/repos/ironhack-datalabs/scavenger/notifications{?since,all,participating}', 'https://api.github.com/repos/ironhack-datalabs/scavenger/labels{/name}', 'https://api.github.com/repos/ironhack-datalabs/scavenger/releases{/id}', 'https://api.github.com/repos/ironhack-datalabs/scavenger/deployments', '2018-12-19T03:01:30Z', '2018-12-19T03:05:09Z', '2018-12-19T03:05:07Z', 'git://github.com/ironhack-datalabs/scavenger.git', 'git@github.com:ironhack-datalabs/scavenger.git', 'https://github.com/ironhack-datalabs/scavenger.git', 'https://github.com/ironhack-datalabs/scavenger', None, 3, 0, 0, None, True, True, True, True, False, False, 20, None, False, False, 0, None, True, False, False, [], 'public', 20, 0, 0, 'master', None, {}, {'login': 'ironhack-datalabs', 'id': 44225188, 'node_id': 'MDEyOk9yZ2FuaXphdGlvbjQ0MjI1MTg4', 'avatar_url': 'https://avatars.githubusercontent.com/u/44225188?v=4', 'gravatar_id': '', 'url': 'https://api.github.com/users/ironhack-datalabs', 'html_url': 'https://github.com/ironhack-datalabs', 'followers_url': 'https://api.github.com/users/ironhack-datalabs/followers', 'following_url': 'https://api.github.com/users/ironhack-datalabs/following{/other_user}', 'gists_url': 'https://api.github.com/users/ironhack-datalabs/gists{/gist_id}', 'starred_url': 'https://api.github.com/users/ironhack-datalabs/starred{/owner}{/repo}', 'subscriptions_url': 'https://api.github.com/users/ironhack-datalabs/subscriptions', 'organizations_url': 'https://api.github.com/users/ironhack-datalabs/orgs', 'repos_url': 'https://api.github.com/users/ironhack-datalabs/repos', 'events_url': 'https://api.github.com/users/ironhack-datalabs/events{/privacy}', 'received_events_url': 'https://api.github.com/users/ironhack-datalabs/received_events', 'type': 'Organization', 'site_admin': False}, 20, 2])"
      ]
     },
     "execution_count": 14,
     "metadata": {},
     "output_type": "execute_result"
    }
   ],
   "source": [
    "res.values()"
   ]
  },
  {
   "cell_type": "code",
   "execution_count": null,
   "id": "ba7a3903",
   "metadata": {},
   "outputs": [],
   "source": [
    "#de la documentación de la API saco la url que tiene contents?extension:scavengerhunt\n",
    "#ejecuto y veo que me sale 200, ok. Luego le doy a que me de el json"
   ]
  }
 ],
 "metadata": {
  "kernelspec": {
   "display_name": "Python 3 (ipykernel)",
   "language": "python",
   "name": "python3"
  },
  "language_info": {
   "codemirror_mode": {
    "name": "ipython",
    "version": 3
   },
   "file_extension": ".py",
   "mimetype": "text/x-python",
   "name": "python",
   "nbconvert_exporter": "python",
   "pygments_lexer": "ipython3",
   "version": "3.11.5"
  },
  "toc": {
   "base_numbering": 1,
   "nav_menu": {},
   "number_sections": true,
   "sideBar": true,
   "skip_h1_title": true,
   "title_cell": "Table of Contents",
   "title_sidebar": "Contents",
   "toc_cell": false,
   "toc_position": {},
   "toc_section_display": true,
   "toc_window_display": true
  }
 },
 "nbformat": 4,
 "nbformat_minor": 5
}
